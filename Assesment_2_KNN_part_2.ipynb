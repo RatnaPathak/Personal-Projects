{
  "nbformat": 4,
  "nbformat_minor": 0,
  "metadata": {
    "colab": {
      "provenance": [],
      "gpuType": "T4"
    },
    "kernelspec": {
      "name": "python3",
      "display_name": "Python 3"
    },
    "language_info": {
      "name": "python"
    },
    "accelerator": "GPU"
  },
  "cells": [
    {
      "cell_type": "markdown",
      "source": [
        "Basic Imports\n"
      ],
      "metadata": {
        "id": "_GSuc_rbeJpc"
      }
    },
    {
      "cell_type": "code",
      "source": [
        "# basic imports\n",
        "import numpy as np\n",
        "import pandas as pd\n",
        "import matplotlib.pyplot as plt\n",
        "import seaborn as sns\n",
        "# for utilising GPU\n",
        "import cupy as cp"
      ],
      "metadata": {
        "id": "pdd_GLnzeGLs"
      },
      "execution_count": null,
      "outputs": []
    },
    {
      "cell_type": "markdown",
      "source": [
        "### Loading the dataset"
      ],
      "metadata": {
        "id": "ps0beRa_eF5B"
      }
    },
    {
      "cell_type": "code",
      "execution_count": null,
      "metadata": {
        "id": "JJw8Tzr6d45z"
      },
      "outputs": [],
      "source": [
        "train_df = pd.read_csv('/content/MNIST_train.csv')\n",
        "test_df = pd.read_csv('/content/MNIST_test.csv')"
      ]
    },
    {
      "cell_type": "code",
      "source": [
        "# we dont need so many index so dropping the columns:\n",
        "train_df = train_df.drop(['Unnamed: 0', 'index'], axis=1)\n",
        "test_df = test_df.drop(['Unnamed: 0', 'index'], axis=1)"
      ],
      "metadata": {
        "id": "zbNWctwKecpl"
      },
      "execution_count": null,
      "outputs": []
    },
    {
      "cell_type": "code",
      "source": [
        "# convert data to the range of 0 to 1\n",
        "scaled_train_X = (train_df.drop('labels', axis=1)) / 255.0\n",
        "scaled_test_X = (test_df.drop('labels', axis=1)) / 255.0"
      ],
      "metadata": {
        "id": "Rgrr5KzTec8O"
      },
      "execution_count": null,
      "outputs": []
    },
    {
      "cell_type": "markdown",
      "source": [
        "### Seperating our dataset into features and target variable"
      ],
      "metadata": {
        "id": "Vjzm2vj3fbs4"
      }
    },
    {
      "cell_type": "code",
      "source": [
        "# Separate features (X) and target variable (y)\n",
        "X_train = scaled_train_X\n",
        "y_train = train_df['labels']"
      ],
      "metadata": {
        "id": "xYd6zJ65fL-c"
      },
      "execution_count": null,
      "outputs": []
    },
    {
      "cell_type": "code",
      "source": [
        "# same for test set\n",
        "X_test = scaled_test_X\n",
        "y_test = test_df['labels']"
      ],
      "metadata": {
        "id": "f1cTcoxofbGf"
      },
      "execution_count": null,
      "outputs": []
    },
    {
      "cell_type": "markdown",
      "source": [
        "### Converting the shape of X and y in the required numpy array"
      ],
      "metadata": {
        "id": "DKENEGGDfp5r"
      }
    },
    {
      "cell_type": "code",
      "source": [
        "# changing the shape of the data for the model\n",
        "y_train = y_train.to_numpy()\n",
        "X_train = X_train.to_numpy()\n",
        "# same for the test set\n",
        "y_test = y_test.to_numpy()\n",
        "X_test = X_test.to_numpy()"
      ],
      "metadata": {
        "id": "9oqWulMyfwps"
      },
      "execution_count": null,
      "outputs": []
    },
    {
      "cell_type": "markdown",
      "source": [
        "### Splitting the train data into train and validation set to get the best hyperparameters"
      ],
      "metadata": {
        "id": "pczql8Wagrz-"
      }
    },
    {
      "cell_type": "code",
      "source": [
        "# split the training data into training and validation sets\n",
        "split_ratio = 0.8  # 80% of data for training, 20% for validation\n",
        "split_index = int(len(X_train) * split_ratio)\n",
        "\n",
        "X_train_split = X_train[:split_index]\n",
        "y_train_split = y_train[:split_index]\n",
        "\n",
        "X_val_split = X_train[split_index:]\n",
        "y_val_split = y_train[split_index:]"
      ],
      "metadata": {
        "id": "pJDMac9Yg4SZ"
      },
      "execution_count": null,
      "outputs": []
    },
    {
      "cell_type": "markdown",
      "source": [
        "## KNN CLASSIFIER"
      ],
      "metadata": {
        "id": "bywAXlfuetlt"
      }
    },
    {
      "cell_type": "code",
      "source": [
        "# KNN classifier\n",
        "class KNNClassifier:\n",
        "    def fit(self, X, y):\n",
        "        self.X = cp.array(X)\n",
        "        self.y = cp.array(y)\n",
        "\n",
        "    def predict(self, X, K, epsilon=1e-3):\n",
        "        X = cp.array(X)\n",
        "        N = len(X)\n",
        "        y_hat = cp.zeros(N)\n",
        "        for i in range(N):\n",
        "            dist2 = cp.sum((self.X - X[i])**2, axis=1)\n",
        "            idxt = cp.argsort(dist2)[:K]\n",
        "            gamma_k = 1 / (cp.sqrt(dist2[idxt] + epsilon))\n",
        "            y_hat[i] = cp.bincount(self.y[idxt], weights=gamma_k).argmax()\n",
        "\n",
        "        return cp.asnumpy(y_hat)  # Convert back to NumPy array for compatibility with other code"
      ],
      "metadata": {
        "id": "jHtrzos4efRL"
      },
      "execution_count": null,
      "outputs": []
    },
    {
      "cell_type": "markdown",
      "source": [
        "Trying KNN with different hyperparameters"
      ],
      "metadata": {
        "id": "4j_1K9INgdUr"
      }
    },
    {
      "cell_type": "code",
      "source": [
        "# function to evaluate the model with given hyperparameters\n",
        "def evaluate_model(X_train, y_train, X_val, y_val, K, epsilon):\n",
        "    model = KNNClassifier()\n",
        "    model.fit(X_train, y_train)\n",
        "    y_val_pred = model.predict(X_val, K, epsilon)\n",
        "    accuracy = np.mean(y_val_pred == y_val)\n",
        "    return accuracy"
      ],
      "metadata": {
        "id": "qAPKmxHoejX3"
      },
      "execution_count": null,
      "outputs": []
    },
    {
      "cell_type": "code",
      "source": [
        "# define the hyperparameter values\n",
        "K_values = [3, 5, 7, 10 , 15, 20]\n",
        "epsilon_values = [0.6, 0.01]\n",
        "\n",
        "best_accuracy = 0\n",
        "best_K = 0\n",
        "best_epsilon = 0\n",
        "\n",
        "# checking for all combinations of K and epsilon\n",
        "for K in K_values:\n",
        "    for epsilon in epsilon_values:\n",
        "        accuracy = evaluate_model(X_train_split, y_train_split, X_val_split, y_val_split, K, epsilon)\n",
        "        print(f\"K: {K}, Epsilon: {epsilon}, Accuracy: {accuracy}\")\n",
        "        if accuracy > best_accuracy:\n",
        "            best_accuracy = accuracy\n",
        "            best_K = K\n",
        "            best_epsilon = epsilon\n",
        "\n",
        "print(f\"Best Hyperparameters - K: {best_K}, Epsilon: {best_epsilon}, Accuracy: {best_accuracy}\")"
      ],
      "metadata": {
        "colab": {
          "base_uri": "https://localhost:8080/"
        },
        "id": "h2ScEQ0Fe3ps",
        "outputId": "83a60243-8785-42bc-feb4-e485c7ad411f"
      },
      "execution_count": null,
      "outputs": [
        {
          "output_type": "stream",
          "name": "stdout",
          "text": [
            "K: 3, Epsilon: 0.6, Accuracy: 0.9713333333333334\n",
            "K: 3, Epsilon: 0.01, Accuracy: 0.9713333333333334\n",
            "K: 5, Epsilon: 0.6, Accuracy: 0.9705833333333334\n",
            "K: 5, Epsilon: 0.01, Accuracy: 0.9705833333333334\n",
            "K: 7, Epsilon: 0.6, Accuracy: 0.9690833333333333\n",
            "K: 7, Epsilon: 0.01, Accuracy: 0.9690833333333333\n",
            "K: 10, Epsilon: 0.6, Accuracy: 0.9685\n",
            "K: 10, Epsilon: 0.01, Accuracy: 0.9685\n",
            "K: 15, Epsilon: 0.6, Accuracy: 0.9646666666666667\n",
            "K: 15, Epsilon: 0.01, Accuracy: 0.9645833333333333\n",
            "K: 20, Epsilon: 0.6, Accuracy: 0.96225\n",
            "K: 20, Epsilon: 0.01, Accuracy: 0.96225\n",
            "Best Hyperparameters - K: 3, Epsilon: 0.6, Accuracy: 0.9713333333333334\n"
          ]
        }
      ]
    },
    {
      "cell_type": "markdown",
      "source": [
        "1 hr 7 min to execute"
      ],
      "metadata": {
        "id": "hbDVXovow0Gx"
      }
    },
    {
      "cell_type": "markdown",
      "source": [
        "Trying a few more combinations"
      ],
      "metadata": {
        "id": "BQTzU8b12vT3"
      }
    },
    {
      "cell_type": "code",
      "source": [
        "# define the hyperparameter values\n",
        "K_values = [1,2]\n",
        "epsilon_values = [ 0.01]\n",
        "\n",
        "best_accuracy = 0\n",
        "best_K = 0\n",
        "best_epsilon = 0\n",
        "\n",
        "# checking for all combinations of K and epsilon\n",
        "for K in K_values:\n",
        "    for epsilon in epsilon_values:\n",
        "        accuracy = evaluate_model(X_train_split, y_train_split, X_val_split, y_val_split, K, epsilon)\n",
        "        print(f\"K: {K}, Epsilon: {epsilon}, Accuracy: {accuracy}\")\n",
        "        if accuracy > best_accuracy:\n",
        "            best_accuracy = accuracy\n",
        "            best_K = K\n",
        "            best_epsilon = epsilon\n",
        "\n",
        "print(f\"Hyperparameters - K: {best_K}, Epsilon: {best_epsilon}, Accuracy: {best_accuracy}\")"
      ],
      "metadata": {
        "colab": {
          "base_uri": "https://localhost:8080/"
        },
        "id": "J43fdLFuw2RP",
        "outputId": "1cc52f75-6282-43c6-9c76-c091c53b38cc"
      },
      "execution_count": null,
      "outputs": [
        {
          "output_type": "stream",
          "name": "stdout",
          "text": [
            "K: 1, Epsilon: 0.01, Accuracy: 0.9681666666666666\n",
            "K: 2, Epsilon: 0.01, Accuracy: 0.9681666666666666\n",
            "Hyperparameters - K: 1, Epsilon: 0.01, Accuracy: 0.9681666666666666\n"
          ]
        }
      ]
    },
    {
      "cell_type": "markdown",
      "source": [
        "time taken: 11 min"
      ],
      "metadata": {
        "id": "Q4RK8FIG1QJK"
      }
    },
    {
      "cell_type": "markdown",
      "source": [
        "highest accuracy acheived is 97 %"
      ],
      "metadata": {
        "id": "dT3HcBed1J_a"
      }
    },
    {
      "cell_type": "markdown",
      "source": [
        "___________"
      ],
      "metadata": {
        "id": "m31K3TRl2-EJ"
      }
    },
    {
      "cell_type": "code",
      "source": [],
      "metadata": {
        "id": "lpdiNDlV2--f"
      },
      "execution_count": null,
      "outputs": []
    }
  ]
}